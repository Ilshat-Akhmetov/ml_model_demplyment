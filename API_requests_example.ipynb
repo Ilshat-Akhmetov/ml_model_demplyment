{
 "cells": [
  {
   "cell_type": "markdown",
   "id": "1af17fc6",
   "metadata": {},
   "source": [
    "## Load ML model"
   ]
  },
  {
   "cell_type": "code",
   "execution_count": 1,
   "id": "6c815213",
   "metadata": {},
   "outputs": [],
   "source": [
    "import pickle\n",
    "import pandas as pd"
   ]
  },
  {
   "cell_type": "code",
   "execution_count": 2,
   "id": "16ebf924",
   "metadata": {},
   "outputs": [],
   "source": [
    "filename = 'model_saved.pkl'\n",
    "\n",
    "with open(filename, 'rb') as file:\n",
    "    Pickled_LR_Model = pickle.load(file)"
   ]
  },
  {
   "cell_type": "code",
   "execution_count": 3,
   "id": "fc0f0c24",
   "metadata": {},
   "outputs": [
    {
     "data": {
      "text/plain": [
       "3.0859469892673896"
      ]
     },
     "execution_count": 3,
     "metadata": {},
     "output_type": "execute_result"
    }
   ],
   "source": [
    "Pickled_LR_Model['Estimator'].regressor_.intercept_"
   ]
  },
  {
   "cell_type": "code",
   "execution_count": 4,
   "id": "15a70541",
   "metadata": {},
   "outputs": [
    {
     "data": {
      "text/plain": [
       "array([-0.01377509,  0.16777635, -0.07622671, -0.05753841, -0.07364107,\n",
       "        0.07936238,  0.15243031])"
      ]
     },
     "execution_count": 4,
     "metadata": {},
     "output_type": "execute_result"
    }
   ],
   "source": [
    "Pickled_LR_Model['Estimator'].regressor_.coef_"
   ]
  },
  {
   "cell_type": "code",
   "execution_count": 5,
   "id": "38772a87",
   "metadata": {},
   "outputs": [
    {
     "data": {
      "text/plain": [
       "7"
      ]
     },
     "execution_count": 5,
     "metadata": {},
     "output_type": "execute_result"
    }
   ],
   "source": [
    "Pickled_LR_Model.n_features_in_"
   ]
  },
  {
   "cell_type": "code",
   "execution_count": 6,
   "id": "f6903fcd",
   "metadata": {},
   "outputs": [
    {
     "data": {
      "text/plain": [
       "array(['ZN', 'CHAS', 'RM', 'AGE', 'TAX', 'PTRATIO', 'B'], dtype=object)"
      ]
     },
     "execution_count": 6,
     "metadata": {},
     "output_type": "execute_result"
    }
   ],
   "source": [
    "Pickled_LR_Model.feature_names_in_"
   ]
  },
  {
   "cell_type": "code",
   "execution_count": 7,
   "id": "b77a2fc2",
   "metadata": {},
   "outputs": [],
   "source": [
    "data = {'ZN': 0, 'CHAS': 1, 'RM': 2, 'AGE': 3, 'TAX': 4, 'PTRATIO': 5, 'B': 6}\n",
    "data_prepared = {k: [v] for k,v in data.items()}\n",
    "data_pandas_format = pd.DataFrame.from_dict(data_prepared)"
   ]
  },
  {
   "cell_type": "code",
   "execution_count": 8,
   "id": "3a30c96e",
   "metadata": {},
   "outputs": [
    {
     "data": {
      "text/plain": [
       "13.127836477301127"
      ]
     },
     "execution_count": 8,
     "metadata": {},
     "output_type": "execute_result"
    }
   ],
   "source": [
    "ans = Pickled_LR_Model.predict(data_pandas_format)\n",
    "ans[0]"
   ]
  },
  {
   "cell_type": "markdown",
   "id": "ee0e9312",
   "metadata": {},
   "source": [
    "## Examples of requests to the server (make sure docker-container with the ml model is running)"
   ]
  },
  {
   "cell_type": "code",
   "execution_count": 9,
   "id": "fa2f6939",
   "metadata": {},
   "outputs": [],
   "source": [
    "import requests\n",
    "import json\n",
    "from os import path"
   ]
  },
  {
   "cell_type": "code",
   "execution_count": 10,
   "id": "c0141133",
   "metadata": {},
   "outputs": [],
   "source": [
    "address = \"http://192.168.0.101:8080\"\n",
    "url = path.join(address,\"prediction_var2\")"
   ]
  },
  {
   "cell_type": "code",
   "execution_count": 11,
   "id": "cb99bbfb",
   "metadata": {},
   "outputs": [
    {
     "name": "stdout",
     "output_type": "stream",
     "text": [
      "{'answer': 13.127836477301127}\n"
     ]
    }
   ],
   "source": [
    "response = requests.post(url, json.dumps(data))\n",
    "print(response.json())"
   ]
  },
  {
   "cell_type": "code",
   "execution_count": 12,
   "id": "3e734da5",
   "metadata": {},
   "outputs": [
    {
     "name": "stdout",
     "output_type": "stream",
     "text": [
      "{\"answer\": 13.127836477301127}"
     ]
    }
   ],
   "source": [
    "!curl 'http://192.168.0.101:8080/prediction_var1/0/1/2/3/4/5/6'"
   ]
  },
  {
   "cell_type": "code",
   "execution_count": 13,
   "id": "15205496",
   "metadata": {},
   "outputs": [
    {
     "name": "stdout",
     "output_type": "stream",
     "text": [
      " Let's suppose server running on http://192.168.0.101:8080. <br> In browser there are 2 methods to get prediction <br>  http://192.168.0.101:8080\\prediction_var3 - will redirect you to the html form where you can fill all r <br>required fields and get answer <br> http://192.168.0.101:8080/prediction_var1/< ZN >/< CHAS >/< RM >/< AGE >/< TAX >/< PTRATIO >/< B >. <br>Here instead ZN, CHAS and so on you should input proper values <br>"
     ]
    }
   ],
   "source": [
    "!curl 'http://192.168.0.101:8080/'"
   ]
  },
  {
   "cell_type": "code",
   "execution_count": null,
   "id": "60b0422f",
   "metadata": {},
   "outputs": [],
   "source": []
  }
 ],
 "metadata": {
  "kernelspec": {
   "display_name": "python39venv",
   "language": "python",
   "name": "python39venv"
  },
  "language_info": {
   "codemirror_mode": {
    "name": "ipython",
    "version": 3
   },
   "file_extension": ".py",
   "mimetype": "text/x-python",
   "name": "python",
   "nbconvert_exporter": "python",
   "pygments_lexer": "ipython3",
   "version": "3.9.13"
  }
 },
 "nbformat": 4,
 "nbformat_minor": 5
}
